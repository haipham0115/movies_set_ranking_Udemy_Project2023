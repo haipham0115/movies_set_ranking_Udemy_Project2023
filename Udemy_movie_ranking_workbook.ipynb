{
 "cells": [
  {
   "cell_type": "markdown",
   "metadata": {},
   "source": [
    "# Project 1: Explanatory Data Analysis & Data Presentation (Movies Dataset)"
   ]
  },
  {
   "cell_type": "markdown",
   "metadata": {},
   "source": [
    "# Project Brief for Self-Coders"
   ]
  },
  {
   "cell_type": "markdown",
   "metadata": {},
   "source": [
    "Here you´ll have the opportunity to code major parts of Project 1 on your own. If you need any help or inspiration, have a look at the Videos or the Jupyter Notebook with the full code. <br> <br>\n",
    "Keep in mind that it´s all about __getting the right results/conclusions__. It´s not about finding the identical code. Things can be coded in many different ways. Even if you come to the same conclusions, it´s very unlikely that we have the very same code. "
   ]
  },
  {
   "cell_type": "markdown",
   "metadata": {},
   "source": [
    "## Data Import and first Inspection"
   ]
  },
  {
   "cell_type": "markdown",
   "metadata": {},
   "source": [
    "1. __Import__ the movies dataset from the CSV file \"movies_complete.csv\". __Inspect__ the data."
   ]
  },
  {
   "cell_type": "code",
   "execution_count": 1,
   "metadata": {},
   "outputs": [],
   "source": [
    "import pandas as pd\n",
    "import matplotlib.pyplot as plt\n",
    "pd.options.display.max_columns = 30\n",
    "pd.options.display.float_format = '{:.2f}'.format\n",
    "\n",
    "df = pd.read_csv(\"movies_complete.csv\", parse_dates=[\"release_date\"])"
   ]
  },
  {
   "cell_type": "code",
   "execution_count": null,
   "metadata": {},
   "outputs": [],
   "source": [
    "# df.head(50)"
   ]
  },
  {
   "cell_type": "markdown",
   "metadata": {},
   "source": [
    "__Some additional information on Features/Columns__:"
   ]
  },
  {
   "cell_type": "markdown",
   "metadata": {},
   "source": [
    "* **id:** The ID of the movie (clear/unique identifier).\n",
    "* **title:** The Official Title of the movie.\n",
    "* **tagline:** The tagline of the movie.\n",
    "* **release_date:** Theatrical Release Date of the movie.\n",
    "* **genres:** Genres associated with the movie.\n",
    "* **belongs_to_collection:** Gives information on the movie series/franchise the particular film belongs to.\n",
    "* **original_language:** The language in which the movie was originally shot in.\n",
    "* **budget_musd:** The budget of the movie in million dollars.\n",
    "* **revenue_musd:** The total revenue of the movie in million dollars.\n",
    "* **production_companies:** Production companies involved with the making of the movie.\n",
    "* **production_countries:** Countries where the movie was shot/produced in.\n",
    "* **vote_count:** The number of votes by users, as counted by TMDB.\n",
    "* **vote_average:** The average rating of the movie.\n",
    "* **popularity:** The Popularity Score assigned by TMDB.\n",
    "* **runtime:** The runtime of the movie in minutes.\n",
    "* **overview:** A brief blurb of the movie.\n",
    "* **spoken_languages:** Spoken languages in the film.\n",
    "* **poster_path:** The URL of the poster image.\n",
    "* **cast:** (Main) Actors appearing in the movie.\n",
    "* **cast_size:** number of Actors appearing in the movie.\n",
    "* **director:** Director of the movie.\n",
    "* **crew_size:** Size of the film crew (incl. director, excl. actors)."
   ]
  },
  {
   "cell_type": "code",
   "execution_count": null,
   "metadata": {
    "scrolled": true
   },
   "outputs": [],
   "source": [
    "df.describe(include= 'object')"
   ]
  },
  {
   "cell_type": "markdown",
   "metadata": {},
   "source": [
    "## The best and the worst movies..."
   ]
  },
  {
   "cell_type": "markdown",
   "metadata": {},
   "source": [
    "2. __Filter__ the Dataset and __find the best/worst n Movies__ with the"
   ]
  },
  {
   "cell_type": "markdown",
   "metadata": {},
   "source": [
    "- Highest Revenue\n",
    "- Highest Budget\n",
    "- Highest Profit (=Revenue - Budget)\n",
    "- Lowest Profit (=Revenue - Budget)\n",
    "- Highest Return on Investment (=Revenue / Budget) (only movies with Budget >= 10) \n",
    "- Lowest Return on Investment (=Revenue / Budget) (only movies with Budget >= 10)\n",
    "- Highest number of Votes\n",
    "- Highest Rating (only movies with 10 or more Ratings)\n",
    "- Lowest Rating (only movies with 10 or more Ratings)\n",
    "- Highest Popularity"
   ]
  },
  {
   "cell_type": "markdown",
   "metadata": {},
   "source": [
    "__Define__ an appropriate __user-defined function__ to reuse code."
   ]
  },
  {
   "cell_type": "code",
   "execution_count": 2,
   "metadata": {},
   "outputs": [],
   "source": [
    "# data set have column that containt HTML elements\n",
    "# import IPython module that can display those HTML elements in dataframe\n",
    "from IPython.display import HTML"
   ]
  },
  {
   "cell_type": "code",
   "execution_count": 3,
   "metadata": {},
   "outputs": [],
   "source": [
    "# create df_best, sub datafram from df\n",
    "# df_best is going to be use for best/worst measurement \n",
    "df_best = df[['poster_path', 'title', 'budget_musd', 'revenue_musd', 'vote_count', \n",
    "             'vote_average', 'popularity']].copy()\n",
    "\n",
    "# profit column = revenue - budget\n",
    "df_best['profit_musd'] = df_best.revenue_musd.sub(df_best.budget_musd)\n",
    "\n",
    "# rate of ROI = revenue / budget\n",
    "df_best['ROI'] = df_best.revenue_musd.div(df_best.budget_musd)"
   ]
  },
  {
   "cell_type": "code",
   "execution_count": 4,
   "metadata": {},
   "outputs": [
    {
     "data": {
      "text/html": [
       "<div>\n",
       "<style scoped>\n",
       "    .dataframe tbody tr th:only-of-type {\n",
       "        vertical-align: middle;\n",
       "    }\n",
       "\n",
       "    .dataframe tbody tr th {\n",
       "        vertical-align: top;\n",
       "    }\n",
       "\n",
       "    .dataframe thead th {\n",
       "        text-align: right;\n",
       "    }\n",
       "</style>\n",
       "<table border=\"1\" class=\"dataframe\">\n",
       "  <thead>\n",
       "    <tr style=\"text-align: right;\">\n",
       "      <th></th>\n",
       "      <th>Poster</th>\n",
       "      <th>Budget</th>\n",
       "      <th>Revenue</th>\n",
       "      <th>Votes</th>\n",
       "      <th>Average Rating</th>\n",
       "      <th>Popularity</th>\n",
       "      <th>Profit</th>\n",
       "      <th>ROI</th>\n",
       "    </tr>\n",
       "    <tr>\n",
       "      <th>Title</th>\n",
       "      <th></th>\n",
       "      <th></th>\n",
       "      <th></th>\n",
       "      <th></th>\n",
       "      <th></th>\n",
       "      <th></th>\n",
       "      <th></th>\n",
       "      <th></th>\n",
       "    </tr>\n",
       "  </thead>\n",
       "  <tbody>\n",
       "    <tr>\n",
       "      <th>Toy Story</th>\n",
       "      <td>&lt;img src='http://image.tmdb.org/t/p/w185//uXDf...</td>\n",
       "      <td>30.00</td>\n",
       "      <td>373.55</td>\n",
       "      <td>5415.00</td>\n",
       "      <td>7.70</td>\n",
       "      <td>21.95</td>\n",
       "      <td>343.55</td>\n",
       "      <td>12.45</td>\n",
       "    </tr>\n",
       "    <tr>\n",
       "      <th>Jumanji</th>\n",
       "      <td>&lt;img src='http://image.tmdb.org/t/p/w185//vgpX...</td>\n",
       "      <td>65.00</td>\n",
       "      <td>262.80</td>\n",
       "      <td>2413.00</td>\n",
       "      <td>6.90</td>\n",
       "      <td>17.02</td>\n",
       "      <td>197.80</td>\n",
       "      <td>4.04</td>\n",
       "    </tr>\n",
       "    <tr>\n",
       "      <th>Grumpier Old Men</th>\n",
       "      <td>&lt;img src='http://image.tmdb.org/t/p/w185//1FSX...</td>\n",
       "      <td>NaN</td>\n",
       "      <td>NaN</td>\n",
       "      <td>92.00</td>\n",
       "      <td>6.50</td>\n",
       "      <td>11.71</td>\n",
       "      <td>NaN</td>\n",
       "      <td>NaN</td>\n",
       "    </tr>\n",
       "    <tr>\n",
       "      <th>Waiting to Exhale</th>\n",
       "      <td>&lt;img src='http://image.tmdb.org/t/p/w185//4wjG...</td>\n",
       "      <td>16.00</td>\n",
       "      <td>81.45</td>\n",
       "      <td>34.00</td>\n",
       "      <td>6.10</td>\n",
       "      <td>3.86</td>\n",
       "      <td>65.45</td>\n",
       "      <td>5.09</td>\n",
       "    </tr>\n",
       "    <tr>\n",
       "      <th>Father of the Bride Part II</th>\n",
       "      <td>&lt;img src='http://image.tmdb.org/t/p/w185//lf9R...</td>\n",
       "      <td>NaN</td>\n",
       "      <td>76.58</td>\n",
       "      <td>173.00</td>\n",
       "      <td>5.70</td>\n",
       "      <td>8.39</td>\n",
       "      <td>NaN</td>\n",
       "      <td>NaN</td>\n",
       "    </tr>\n",
       "    <tr>\n",
       "      <th>...</th>\n",
       "      <td>...</td>\n",
       "      <td>...</td>\n",
       "      <td>...</td>\n",
       "      <td>...</td>\n",
       "      <td>...</td>\n",
       "      <td>...</td>\n",
       "      <td>...</td>\n",
       "      <td>...</td>\n",
       "    </tr>\n",
       "    <tr>\n",
       "      <th>Subdue</th>\n",
       "      <td>&lt;img src='http://image.tmdb.org/t/p/w185//pfC8...</td>\n",
       "      <td>NaN</td>\n",
       "      <td>NaN</td>\n",
       "      <td>1.00</td>\n",
       "      <td>4.00</td>\n",
       "      <td>0.07</td>\n",
       "      <td>NaN</td>\n",
       "      <td>NaN</td>\n",
       "    </tr>\n",
       "    <tr>\n",
       "      <th>Century of Birthing</th>\n",
       "      <td>&lt;img src='http://image.tmdb.org/t/p/w185//xZkm...</td>\n",
       "      <td>NaN</td>\n",
       "      <td>NaN</td>\n",
       "      <td>3.00</td>\n",
       "      <td>9.00</td>\n",
       "      <td>0.18</td>\n",
       "      <td>NaN</td>\n",
       "      <td>NaN</td>\n",
       "    </tr>\n",
       "    <tr>\n",
       "      <th>Betrayal</th>\n",
       "      <td>&lt;img src='http://image.tmdb.org/t/p/w185//eGga...</td>\n",
       "      <td>NaN</td>\n",
       "      <td>NaN</td>\n",
       "      <td>6.00</td>\n",
       "      <td>3.80</td>\n",
       "      <td>0.90</td>\n",
       "      <td>NaN</td>\n",
       "      <td>NaN</td>\n",
       "    </tr>\n",
       "    <tr>\n",
       "      <th>Satan Triumphant</th>\n",
       "      <td>&lt;img src='http://image.tmdb.org/t/p/w185//aorB...</td>\n",
       "      <td>NaN</td>\n",
       "      <td>NaN</td>\n",
       "      <td>0.00</td>\n",
       "      <td>NaN</td>\n",
       "      <td>0.00</td>\n",
       "      <td>NaN</td>\n",
       "      <td>NaN</td>\n",
       "    </tr>\n",
       "    <tr>\n",
       "      <th>Queerama</th>\n",
       "      <td>&lt;img src='http://image.tmdb.org/t/p/w185//oxFE...</td>\n",
       "      <td>NaN</td>\n",
       "      <td>NaN</td>\n",
       "      <td>0.00</td>\n",
       "      <td>NaN</td>\n",
       "      <td>0.16</td>\n",
       "      <td>NaN</td>\n",
       "      <td>NaN</td>\n",
       "    </tr>\n",
       "  </tbody>\n",
       "</table>\n",
       "<p>44691 rows × 8 columns</p>\n",
       "</div>"
      ],
      "text/plain": [
       "                                                                        Poster  \\\n",
       "Title                                                                            \n",
       "Toy Story                    <img src='http://image.tmdb.org/t/p/w185//uXDf...   \n",
       "Jumanji                      <img src='http://image.tmdb.org/t/p/w185//vgpX...   \n",
       "Grumpier Old Men             <img src='http://image.tmdb.org/t/p/w185//1FSX...   \n",
       "Waiting to Exhale            <img src='http://image.tmdb.org/t/p/w185//4wjG...   \n",
       "Father of the Bride Part II  <img src='http://image.tmdb.org/t/p/w185//lf9R...   \n",
       "...                                                                        ...   \n",
       "Subdue                       <img src='http://image.tmdb.org/t/p/w185//pfC8...   \n",
       "Century of Birthing          <img src='http://image.tmdb.org/t/p/w185//xZkm...   \n",
       "Betrayal                     <img src='http://image.tmdb.org/t/p/w185//eGga...   \n",
       "Satan Triumphant             <img src='http://image.tmdb.org/t/p/w185//aorB...   \n",
       "Queerama                     <img src='http://image.tmdb.org/t/p/w185//oxFE...   \n",
       "\n",
       "                             Budget  Revenue   Votes  Average Rating  \\\n",
       "Title                                                                  \n",
       "Toy Story                     30.00   373.55 5415.00            7.70   \n",
       "Jumanji                       65.00   262.80 2413.00            6.90   \n",
       "Grumpier Old Men                NaN      NaN   92.00            6.50   \n",
       "Waiting to Exhale             16.00    81.45   34.00            6.10   \n",
       "Father of the Bride Part II     NaN    76.58  173.00            5.70   \n",
       "...                             ...      ...     ...             ...   \n",
       "Subdue                          NaN      NaN    1.00            4.00   \n",
       "Century of Birthing             NaN      NaN    3.00            9.00   \n",
       "Betrayal                        NaN      NaN    6.00            3.80   \n",
       "Satan Triumphant                NaN      NaN    0.00             NaN   \n",
       "Queerama                        NaN      NaN    0.00             NaN   \n",
       "\n",
       "                             Popularity  Profit   ROI  \n",
       "Title                                                  \n",
       "Toy Story                         21.95  343.55 12.45  \n",
       "Jumanji                           17.02  197.80  4.04  \n",
       "Grumpier Old Men                  11.71     NaN   NaN  \n",
       "Waiting to Exhale                  3.86   65.45  5.09  \n",
       "Father of the Bride Part II        8.39     NaN   NaN  \n",
       "...                                 ...     ...   ...  \n",
       "Subdue                             0.07     NaN   NaN  \n",
       "Century of Birthing                0.18     NaN   NaN  \n",
       "Betrayal                           0.90     NaN   NaN  \n",
       "Satan Triumphant                   0.00     NaN   NaN  \n",
       "Queerama                           0.16     NaN   NaN  \n",
       "\n",
       "[44691 rows x 8 columns]"
      ]
     },
     "execution_count": 4,
     "metadata": {},
     "output_type": "execute_result"
    }
   ],
   "source": [
    "df_best.columns = ['Poster', 'Title', 'Budget',\n",
    "                  'Revenue', 'Votes', 'Average Rating', 'Popularity', 'Profit', 'ROI']\n",
    "df_best.set_index(\"Title\", inplace=True)\n",
    "df_best"
   ]
  },
  {
   "cell_type": "code",
   "execution_count": 6,
   "metadata": {},
   "outputs": [
    {
     "data": {
      "text/html": [
       "<table border=\"1\" class=\"dataframe\">\n",
       "  <thead>\n",
       "    <tr style=\"text-align: right;\">\n",
       "      <th></th>\n",
       "      <th>Poster</th>\n",
       "      <th>Budget</th>\n",
       "    </tr>\n",
       "    <tr>\n",
       "      <th>Title</th>\n",
       "      <th></th>\n",
       "      <th></th>\n",
       "    </tr>\n",
       "  </thead>\n",
       "  <tbody>\n",
       "    <tr>\n",
       "      <th>Toy Story</th>\n",
       "      <td><img src='http://image.tmdb.org/t/p/w185//uXDfjJbdP4ijW5hWSBrPrlKpxab.jpg' style='height:100px;'></td>\n",
       "      <td>30.00</td>\n",
       "    </tr>\n",
       "    <tr>\n",
       "      <th>Jumanji</th>\n",
       "      <td><img src='http://image.tmdb.org/t/p/w185//vgpXmVaVyUL7GGiDeiK1mKEKzcX.jpg' style='height:100px;'></td>\n",
       "      <td>65.00</td>\n",
       "    </tr>\n",
       "    <tr>\n",
       "      <th>Grumpier Old Men</th>\n",
       "      <td><img src='http://image.tmdb.org/t/p/w185//1FSXpj5e8l4KH6nVFO5SPUeraOt.jpg' style='height:100px;'></td>\n",
       "      <td>NaN</td>\n",
       "    </tr>\n",
       "  </tbody>\n",
       "</table>"
      ],
      "text/plain": [
       "<IPython.core.display.HTML object>"
      ]
     },
     "execution_count": 6,
     "metadata": {},
     "output_type": "execute_result"
    }
   ],
   "source": [
    "# DO NOT RUN THIS, RAM EATING\n",
    "# HTML(df_best.to_html(escape=False))\n",
    "\n",
    "# use HTML module to display HTML elements inside the dataframe\n",
    "# .to_html convert the data.farame into html code\n",
    "subset = df_best.iloc[:3,:2]\n",
    "HTML(subset.to_html(escape=False))"
   ]
  },
  {
   "cell_type": "code",
   "execution_count": 7,
   "metadata": {},
   "outputs": [
    {
     "name": "stdout",
     "output_type": "stream",
     "text": [
      "<class 'pandas.core.frame.DataFrame'>\n",
      "Index: 44691 entries, Toy Story to Queerama\n",
      "Data columns (total 8 columns):\n",
      " #   Column          Non-Null Count  Dtype  \n",
      "---  ------          --------------  -----  \n",
      " 0   Poster          44467 non-null  object \n",
      " 1   Budget          44691 non-null  float64\n",
      " 2   Revenue         7385 non-null   float64\n",
      " 3   Votes           44691 non-null  float64\n",
      " 4   Average Rating  42077 non-null  float64\n",
      " 5   Popularity      44691 non-null  float64\n",
      " 6   Profit          5371 non-null   float64\n",
      " 7   ROI             5371 non-null   float64\n",
      "dtypes: float64(7), object(1)\n",
      "memory usage: 3.1+ MB\n"
     ]
    }
   ],
   "source": [
    "# to start ranking movie, we need metric: budget, votes...\n",
    "# those columns has null value--> fill in with 0\n",
    "df_best.Budget.fillna(0, inplace=True)\n",
    "df_best.Votes.fillna(0, inplace=True)\n",
    "df_best.info()"
   ]
  },
  {
   "cell_type": "code",
   "execution_count": 13,
   "metadata": {},
   "outputs": [],
   "source": [
    "# DEFINE FUNCTION for making rankings\n",
    "\n",
    "# parameters:\n",
    "# n : number of ranks (top5, top 10, top 3, ...)\n",
    "# ascending: order\n",
    "# min_bud: minimum budget for the comparison\n",
    "# min_votes: minimum votes\n",
    "\n",
    "def best_worst (n , by, ascending=False, min_bud = 0, min_votes=0):\n",
    "    \n",
    "     df2 = df_best.loc[(df_best.Budget >= min_bud) & (df_best.Votes >= min_votes), \n",
    "                      [\"Poster\", by]].sort_values(by = by, ascending = ascending).head(n).copy()\n",
    "        \n",
    "     return HTML(df2.to_html(escape=False))   "
   ]
  },
  {
   "cell_type": "code",
   "execution_count": 14,
   "metadata": {},
   "outputs": [],
   "source": [
    "# df.loc[(df_best.Budget >= 5) & (df_best.Votes >= 10), [\"\", \"Revenue\"]].sort_values(by = \"Revenue\")"
   ]
  },
  {
   "cell_type": "markdown",
   "metadata": {},
   "source": [
    "__Movies Top 5 - Highest Revenue__"
   ]
  },
  {
   "cell_type": "code",
   "execution_count": 15,
   "metadata": {},
   "outputs": [
    {
     "data": {
      "text/html": [
       "<table border=\"1\" class=\"dataframe\">\n",
       "  <thead>\n",
       "    <tr style=\"text-align: right;\">\n",
       "      <th></th>\n",
       "      <th>Poster</th>\n",
       "      <th>Revenue</th>\n",
       "    </tr>\n",
       "    <tr>\n",
       "      <th>Title</th>\n",
       "      <th></th>\n",
       "      <th></th>\n",
       "    </tr>\n",
       "  </thead>\n",
       "  <tbody>\n",
       "    <tr>\n",
       "      <th>Avatar</th>\n",
       "      <td><img src='http://image.tmdb.org/t/p/w185//btnl50ZDJDSCal2NLQIYWw0XxvH.jpg' style='height:100px;'></td>\n",
       "      <td>2787.97</td>\n",
       "    </tr>\n",
       "    <tr>\n",
       "      <th>Star Wars: The Force Awakens</th>\n",
       "      <td><img src='http://image.tmdb.org/t/p/w185//9rd002JS49RwDW944fF1wjU8iTV.jpg' style='height:100px;'></td>\n",
       "      <td>2068.22</td>\n",
       "    </tr>\n",
       "    <tr>\n",
       "      <th>Titanic</th>\n",
       "      <td><img src='http://image.tmdb.org/t/p/w185//9xjZS2rlVxm8SFx8kPC3aIGCOYQ.jpg' style='height:100px;'></td>\n",
       "      <td>1845.03</td>\n",
       "    </tr>\n",
       "    <tr>\n",
       "      <th>The Avengers</th>\n",
       "      <td><img src='http://image.tmdb.org/t/p/w185//RYMX2wcKCBAr24UyPD7xwmjaTn.jpg' style='height:100px;'></td>\n",
       "      <td>1519.56</td>\n",
       "    </tr>\n",
       "    <tr>\n",
       "      <th>Jurassic World</th>\n",
       "      <td><img src='http://image.tmdb.org/t/p/w185//rhr4y79GpxQF9IsfJItRXVaoGs4.jpg' style='height:100px;'></td>\n",
       "      <td>1513.53</td>\n",
       "    </tr>\n",
       "  </tbody>\n",
       "</table>"
      ],
      "text/plain": [
       "<IPython.core.display.HTML object>"
      ]
     },
     "execution_count": 15,
     "metadata": {},
     "output_type": "execute_result"
    }
   ],
   "source": [
    "best_worst(n = 5, by = \"Revenue\")"
   ]
  },
  {
   "cell_type": "markdown",
   "metadata": {},
   "source": [
    "__Movies Top 5 - Highest Budget__"
   ]
  },
  {
   "cell_type": "code",
   "execution_count": 16,
   "metadata": {},
   "outputs": [
    {
     "data": {
      "text/html": [
       "<table border=\"1\" class=\"dataframe\">\n",
       "  <thead>\n",
       "    <tr style=\"text-align: right;\">\n",
       "      <th></th>\n",
       "      <th>Poster</th>\n",
       "      <th>Budget</th>\n",
       "    </tr>\n",
       "    <tr>\n",
       "      <th>Title</th>\n",
       "      <th></th>\n",
       "      <th></th>\n",
       "    </tr>\n",
       "  </thead>\n",
       "  <tbody>\n",
       "    <tr>\n",
       "      <th>Pirates of the Caribbean: On Stranger Tides</th>\n",
       "      <td><img src='http://image.tmdb.org/t/p/w185//keGfSvCmYj7CvdRx36OdVrAEibE.jpg' style='height:100px;'></td>\n",
       "      <td>380.00</td>\n",
       "    </tr>\n",
       "    <tr>\n",
       "      <th>Pirates of the Caribbean: At World's End</th>\n",
       "      <td><img src='http://image.tmdb.org/t/p/w185//oVh3REsCwJwmrTkZ9OkkeKiAE02.jpg' style='height:100px;'></td>\n",
       "      <td>300.00</td>\n",
       "    </tr>\n",
       "    <tr>\n",
       "      <th>Avengers: Age of Ultron</th>\n",
       "      <td><img src='http://image.tmdb.org/t/p/w185//4ssDuvEDkSArWEdyBl2X5EHvYKU.jpg' style='height:100px;'></td>\n",
       "      <td>280.00</td>\n",
       "    </tr>\n",
       "    <tr>\n",
       "      <th>Superman Returns</th>\n",
       "      <td><img src='http://image.tmdb.org/t/p/w185//6ZYOpyhFZrAQIe1BuhqVgzfAdGZ.jpg' style='height:100px;'></td>\n",
       "      <td>270.00</td>\n",
       "    </tr>\n",
       "    <tr>\n",
       "      <th>Transformers: The Last Knight</th>\n",
       "      <td><img src='http://image.tmdb.org/t/p/w185//s5HQf2Gb3lIO2cRcFwNL9sn1o1o.jpg' style='height:100px;'></td>\n",
       "      <td>260.00</td>\n",
       "    </tr>\n",
       "  </tbody>\n",
       "</table>"
      ],
      "text/plain": [
       "<IPython.core.display.HTML object>"
      ]
     },
     "execution_count": 16,
     "metadata": {},
     "output_type": "execute_result"
    }
   ],
   "source": [
    "best_worst(5, by=\"Budget\")"
   ]
  },
  {
   "cell_type": "markdown",
   "metadata": {},
   "source": [
    "__Movies Top 5 - Highest Profit__"
   ]
  },
  {
   "cell_type": "code",
   "execution_count": 17,
   "metadata": {},
   "outputs": [
    {
     "data": {
      "text/html": [
       "<table border=\"1\" class=\"dataframe\">\n",
       "  <thead>\n",
       "    <tr style=\"text-align: right;\">\n",
       "      <th></th>\n",
       "      <th>Poster</th>\n",
       "      <th>Profit</th>\n",
       "    </tr>\n",
       "    <tr>\n",
       "      <th>Title</th>\n",
       "      <th></th>\n",
       "      <th></th>\n",
       "    </tr>\n",
       "  </thead>\n",
       "  <tbody>\n",
       "    <tr>\n",
       "      <th>Avatar</th>\n",
       "      <td><img src='http://image.tmdb.org/t/p/w185//btnl50ZDJDSCal2NLQIYWw0XxvH.jpg' style='height:100px;'></td>\n",
       "      <td>2550.97</td>\n",
       "    </tr>\n",
       "    <tr>\n",
       "      <th>Star Wars: The Force Awakens</th>\n",
       "      <td><img src='http://image.tmdb.org/t/p/w185//9rd002JS49RwDW944fF1wjU8iTV.jpg' style='height:100px;'></td>\n",
       "      <td>1823.22</td>\n",
       "    </tr>\n",
       "    <tr>\n",
       "      <th>Titanic</th>\n",
       "      <td><img src='http://image.tmdb.org/t/p/w185//9xjZS2rlVxm8SFx8kPC3aIGCOYQ.jpg' style='height:100px;'></td>\n",
       "      <td>1645.03</td>\n",
       "    </tr>\n",
       "    <tr>\n",
       "      <th>Jurassic World</th>\n",
       "      <td><img src='http://image.tmdb.org/t/p/w185//rhr4y79GpxQF9IsfJItRXVaoGs4.jpg' style='height:100px;'></td>\n",
       "      <td>1363.53</td>\n",
       "    </tr>\n",
       "    <tr>\n",
       "      <th>Furious 7</th>\n",
       "      <td><img src='http://image.tmdb.org/t/p/w185//d9jZ2bKZw3ptTuxAyVHA6olPAVs.jpg' style='height:100px;'></td>\n",
       "      <td>1316.25</td>\n",
       "    </tr>\n",
       "  </tbody>\n",
       "</table>"
      ],
      "text/plain": [
       "<IPython.core.display.HTML object>"
      ]
     },
     "execution_count": 17,
     "metadata": {},
     "output_type": "execute_result"
    }
   ],
   "source": [
    "best_worst(5, by=\"Profit\")"
   ]
  },
  {
   "cell_type": "markdown",
   "metadata": {},
   "source": [
    "__Movies Top 5 - Lowest Profit__"
   ]
  },
  {
   "cell_type": "code",
   "execution_count": 20,
   "metadata": {
    "scrolled": false
   },
   "outputs": [
    {
     "data": {
      "text/html": [
       "<table border=\"1\" class=\"dataframe\">\n",
       "  <thead>\n",
       "    <tr style=\"text-align: right;\">\n",
       "      <th></th>\n",
       "      <th>Poster</th>\n",
       "      <th>Profit</th>\n",
       "    </tr>\n",
       "    <tr>\n",
       "      <th>Title</th>\n",
       "      <th></th>\n",
       "      <th></th>\n",
       "    </tr>\n",
       "  </thead>\n",
       "  <tbody>\n",
       "    <tr>\n",
       "      <th>The Lone Ranger</th>\n",
       "      <td><img src='http://image.tmdb.org/t/p/w185//b2je2ZybNIzAOL1K1WPbbT6zt2M.jpg' style='height:100px;'></td>\n",
       "      <td>-165.71</td>\n",
       "    </tr>\n",
       "    <tr>\n",
       "      <th>The Alamo</th>\n",
       "      <td><img src='http://image.tmdb.org/t/p/w185//aZrWYkxCCwSPKp4VjVvn46uHbIX.jpg' style='height:100px;'></td>\n",
       "      <td>-119.18</td>\n",
       "    </tr>\n",
       "    <tr>\n",
       "      <th>Mars Needs Moms</th>\n",
       "      <td><img src='http://image.tmdb.org/t/p/w185//lOKqLd0ud1wdwaPK5h6bGNZIVLT.jpg' style='height:100px;'></td>\n",
       "      <td>-111.01</td>\n",
       "    </tr>\n",
       "    <tr>\n",
       "      <th>Valerian and the City of a Thousand Planets</th>\n",
       "      <td><img src='http://image.tmdb.org/t/p/w185//jfIpMh79fGRqYJ6PwZLCntzgxlF.jpg' style='height:100px;'></td>\n",
       "      <td>-107.45</td>\n",
       "    </tr>\n",
       "    <tr>\n",
       "      <th>The 13th Warrior</th>\n",
       "      <td><img src='http://image.tmdb.org/t/p/w185//7pyhR5K1iv67daYw0DfsmsersKA.jpg' style='height:100px;'></td>\n",
       "      <td>-98.30</td>\n",
       "    </tr>\n",
       "  </tbody>\n",
       "</table>"
      ],
      "text/plain": [
       "<IPython.core.display.HTML object>"
      ]
     },
     "execution_count": 20,
     "metadata": {},
     "output_type": "execute_result"
    }
   ],
   "source": [
    "best_worst(5, by=\"Profit\", ascending=True)"
   ]
  },
  {
   "cell_type": "markdown",
   "metadata": {},
   "source": [
    "__Movies Top 5 - Highest ROI__"
   ]
  },
  {
   "cell_type": "code",
   "execution_count": 22,
   "metadata": {
    "scrolled": false
   },
   "outputs": [
    {
     "data": {
      "text/html": [
       "<table border=\"1\" class=\"dataframe\">\n",
       "  <thead>\n",
       "    <tr style=\"text-align: right;\">\n",
       "      <th></th>\n",
       "      <th>Poster</th>\n",
       "      <th>ROI</th>\n",
       "    </tr>\n",
       "    <tr>\n",
       "      <th>Title</th>\n",
       "      <th></th>\n",
       "      <th></th>\n",
       "    </tr>\n",
       "  </thead>\n",
       "  <tbody>\n",
       "    <tr>\n",
       "      <th>Less Than Zero</th>\n",
       "      <td><img src='http://image.tmdb.org/t/p/w185//1GY0ZhAxOR2RgxGnOkeKoKb2mFM.jpg' style='height:100px;'></td>\n",
       "      <td>12396383.00</td>\n",
       "    </tr>\n",
       "    <tr>\n",
       "      <th>Modern Times</th>\n",
       "      <td><img src='http://image.tmdb.org/t/p/w185//7uoiKOEjxBBW0AgDGQWrlfGQ90w.jpg' style='height:100px;'></td>\n",
       "      <td>8500000.00</td>\n",
       "    </tr>\n",
       "    <tr>\n",
       "      <th>Welcome to Dongmakgol</th>\n",
       "      <td><img src='http://image.tmdb.org/t/p/w185//5iGVw8AdnUJ3xNaZ5iipfsv2e5.jpg' style='height:100px;'></td>\n",
       "      <td>4197476.62</td>\n",
       "    </tr>\n",
       "    <tr>\n",
       "      <th>Aquí Entre Nos</th>\n",
       "      <td><img src='http://image.tmdb.org/t/p/w185//oflxxk94TjmjMdotXnajh64iMad.jpg' style='height:100px;'></td>\n",
       "      <td>2755584.00</td>\n",
       "    </tr>\n",
       "    <tr>\n",
       "      <th>The Karate Kid, Part II</th>\n",
       "      <td><img src='http://image.tmdb.org/t/p/w185//mSne9mfUcL8QCGxF891LWa7lZNI.jpg' style='height:100px;'></td>\n",
       "      <td>1018619.28</td>\n",
       "    </tr>\n",
       "  </tbody>\n",
       "</table>"
      ],
      "text/plain": [
       "<IPython.core.display.HTML object>"
      ]
     },
     "execution_count": 22,
     "metadata": {},
     "output_type": "execute_result"
    }
   ],
   "source": [
    "best_worst(5, by=\"ROI\")"
   ]
  },
  {
   "cell_type": "markdown",
   "metadata": {},
   "source": [
    "__Movies Top 5 - Lowest ROI__"
   ]
  },
  {
   "cell_type": "code",
   "execution_count": 21,
   "metadata": {},
   "outputs": [
    {
     "data": {
      "text/html": [
       "<table border=\"1\" class=\"dataframe\">\n",
       "  <thead>\n",
       "    <tr style=\"text-align: right;\">\n",
       "      <th></th>\n",
       "      <th>Poster</th>\n",
       "      <th>ROI</th>\n",
       "    </tr>\n",
       "    <tr>\n",
       "      <th>Title</th>\n",
       "      <th></th>\n",
       "      <th></th>\n",
       "    </tr>\n",
       "  </thead>\n",
       "  <tbody>\n",
       "    <tr>\n",
       "      <th>Chasing Liberty</th>\n",
       "      <td><img src='http://image.tmdb.org/t/p/w185//7qzvS9QKkiDcz1K8EY9Y6ZXkUeD.jpg' style='height:100px;'></td>\n",
       "      <td>0.00</td>\n",
       "    </tr>\n",
       "    <tr>\n",
       "      <th>The Cookout</th>\n",
       "      <td><img src='http://image.tmdb.org/t/p/w185//eUVEPES8KhnXbTG3G74UZfVQRb7.jpg' style='height:100px;'></td>\n",
       "      <td>0.00</td>\n",
       "    </tr>\n",
       "    <tr>\n",
       "      <th>Never Talk to Strangers</th>\n",
       "      <td><img src='http://image.tmdb.org/t/p/w185//IHZZLIxqF3ByEZV57RApvfh7uu.jpg' style='height:100px;'></td>\n",
       "      <td>0.00</td>\n",
       "    </tr>\n",
       "    <tr>\n",
       "      <th>To Rob a Thief</th>\n",
       "      <td><img src='http://image.tmdb.org/t/p/w185//13mcl6dbOHlaxaJZH5IEYNFipig.jpg' style='height:100px;'></td>\n",
       "      <td>0.00</td>\n",
       "    </tr>\n",
       "    <tr>\n",
       "      <th>Deadfall</th>\n",
       "      <td><img src='http://image.tmdb.org/t/p/w185//kgfvIzCG9PYjYfEtcIPuJpGiY9m.jpg' style='height:100px;'></td>\n",
       "      <td>0.00</td>\n",
       "    </tr>\n",
       "  </tbody>\n",
       "</table>"
      ],
      "text/plain": [
       "<IPython.core.display.HTML object>"
      ]
     },
     "execution_count": 21,
     "metadata": {},
     "output_type": "execute_result"
    }
   ],
   "source": [
    "best_worst(5, by=\"ROI\", ascending=True)"
   ]
  },
  {
   "cell_type": "markdown",
   "metadata": {},
   "source": [
    "__Movies Top 5 - Most Votes__"
   ]
  },
  {
   "cell_type": "code",
   "execution_count": 23,
   "metadata": {},
   "outputs": [
    {
     "data": {
      "text/html": [
       "<table border=\"1\" class=\"dataframe\">\n",
       "  <thead>\n",
       "    <tr style=\"text-align: right;\">\n",
       "      <th></th>\n",
       "      <th>Poster</th>\n",
       "      <th>Votes</th>\n",
       "    </tr>\n",
       "    <tr>\n",
       "      <th>Title</th>\n",
       "      <th></th>\n",
       "      <th></th>\n",
       "    </tr>\n",
       "  </thead>\n",
       "  <tbody>\n",
       "    <tr>\n",
       "      <th>Inception</th>\n",
       "      <td><img src='http://image.tmdb.org/t/p/w185//9gk7adHYeDvHkCSEqAvQNLV5Uge.jpg' style='height:100px;'></td>\n",
       "      <td>14075.00</td>\n",
       "    </tr>\n",
       "    <tr>\n",
       "      <th>The Dark Knight</th>\n",
       "      <td><img src='http://image.tmdb.org/t/p/w185//qJ2tW6WMUDux911r6m7haRef0WH.jpg' style='height:100px;'></td>\n",
       "      <td>12269.00</td>\n",
       "    </tr>\n",
       "    <tr>\n",
       "      <th>Avatar</th>\n",
       "      <td><img src='http://image.tmdb.org/t/p/w185//btnl50ZDJDSCal2NLQIYWw0XxvH.jpg' style='height:100px;'></td>\n",
       "      <td>12114.00</td>\n",
       "    </tr>\n",
       "    <tr>\n",
       "      <th>The Avengers</th>\n",
       "      <td><img src='http://image.tmdb.org/t/p/w185//RYMX2wcKCBAr24UyPD7xwmjaTn.jpg' style='height:100px;'></td>\n",
       "      <td>12000.00</td>\n",
       "    </tr>\n",
       "    <tr>\n",
       "      <th>Deadpool</th>\n",
       "      <td><img src='http://image.tmdb.org/t/p/w185//fSRb7vyIP8rQpL0I47P3qUsEKX3.jpg' style='height:100px;'></td>\n",
       "      <td>11444.00</td>\n",
       "    </tr>\n",
       "  </tbody>\n",
       "</table>"
      ],
      "text/plain": [
       "<IPython.core.display.HTML object>"
      ]
     },
     "execution_count": 23,
     "metadata": {},
     "output_type": "execute_result"
    }
   ],
   "source": [
    "best_worst(5, by=\"Votes\")"
   ]
  },
  {
   "cell_type": "markdown",
   "metadata": {},
   "source": [
    "__Movies Top 5 - Highest Rating__"
   ]
  },
  {
   "cell_type": "code",
   "execution_count": 24,
   "metadata": {},
   "outputs": [
    {
     "data": {
      "text/html": [
       "<table border=\"1\" class=\"dataframe\">\n",
       "  <thead>\n",
       "    <tr style=\"text-align: right;\">\n",
       "      <th></th>\n",
       "      <th>Poster</th>\n",
       "      <th>Average Rating</th>\n",
       "    </tr>\n",
       "    <tr>\n",
       "      <th>Title</th>\n",
       "      <th></th>\n",
       "      <th></th>\n",
       "    </tr>\n",
       "  </thead>\n",
       "  <tbody>\n",
       "    <tr>\n",
       "      <th>Portrait of a Young Man in Three Movements</th>\n",
       "      <td>NaN</td>\n",
       "      <td>10.00</td>\n",
       "    </tr>\n",
       "    <tr>\n",
       "      <th>Brave Revolutionary</th>\n",
       "      <td><img src='http://image.tmdb.org/t/p/w185//zAb2YxgYSJTcloGTHAA9ogOVq7M.jpg' style='height:100px;'></td>\n",
       "      <td>10.00</td>\n",
       "    </tr>\n",
       "    <tr>\n",
       "      <th>Other Voices Other Rooms</th>\n",
       "      <td><img src='http://image.tmdb.org/t/p/w185//4ifPBA4AjRQWxgVJAwSwWp6nFCa.jpg' style='height:100px;'></td>\n",
       "      <td>10.00</td>\n",
       "    </tr>\n",
       "    <tr>\n",
       "      <th>The Lion of Thebes</th>\n",
       "      <td><img src='http://image.tmdb.org/t/p/w185//tdOcmIjI8sx9RZIsVgOlq4kQgJ4.jpg' style='height:100px;'></td>\n",
       "      <td>10.00</td>\n",
       "    </tr>\n",
       "    <tr>\n",
       "      <th>Katt Williams: Priceless: Afterlife</th>\n",
       "      <td><img src='http://image.tmdb.org/t/p/w185//wKrH5tKdJa3y5jqAQM1eYmkXbHX.jpg' style='height:100px;'></td>\n",
       "      <td>10.00</td>\n",
       "    </tr>\n",
       "  </tbody>\n",
       "</table>"
      ],
      "text/plain": [
       "<IPython.core.display.HTML object>"
      ]
     },
     "execution_count": 24,
     "metadata": {},
     "output_type": "execute_result"
    }
   ],
   "source": [
    "best_worst(5, by=\"Average Rating\")"
   ]
  },
  {
   "cell_type": "markdown",
   "metadata": {},
   "source": [
    "__Movies Top 5 - Lowest Rating__"
   ]
  },
  {
   "cell_type": "code",
   "execution_count": 25,
   "metadata": {},
   "outputs": [
    {
     "data": {
      "text/html": [
       "<table border=\"1\" class=\"dataframe\">\n",
       "  <thead>\n",
       "    <tr style=\"text-align: right;\">\n",
       "      <th></th>\n",
       "      <th>Poster</th>\n",
       "      <th>Average Rating</th>\n",
       "    </tr>\n",
       "    <tr>\n",
       "      <th>Title</th>\n",
       "      <th></th>\n",
       "      <th></th>\n",
       "    </tr>\n",
       "  </thead>\n",
       "  <tbody>\n",
       "    <tr>\n",
       "      <th>Dance, Fools, Dance</th>\n",
       "      <td><img src='http://image.tmdb.org/t/p/w185//znLNTt8o2Bkfv5eCiCTEZdqNnye.jpg' style='height:100px;'></td>\n",
       "      <td>0.00</td>\n",
       "    </tr>\n",
       "    <tr>\n",
       "      <th>.hack Liminality: In the Case of Mai Minase</th>\n",
       "      <td><img src='http://image.tmdb.org/t/p/w185//mij7uE2vjbumQOeiLhY3M8HT5V0.jpg' style='height:100px;'></td>\n",
       "      <td>0.00</td>\n",
       "    </tr>\n",
       "    <tr>\n",
       "      <th>Lucrezia Borgia</th>\n",
       "      <td><img src='http://image.tmdb.org/t/p/w185//z3k5rkCJxNWAFua7MFgB8bi9AkX.jpg' style='height:100px;'></td>\n",
       "      <td>0.00</td>\n",
       "    </tr>\n",
       "    <tr>\n",
       "      <th>Joe and Max</th>\n",
       "      <td><img src='http://image.tmdb.org/t/p/w185//1VerTaAVt8zdU0IqTLWJLO0ZwIo.jpg' style='height:100px;'></td>\n",
       "      <td>0.00</td>\n",
       "    </tr>\n",
       "    <tr>\n",
       "      <th>The Substitute</th>\n",
       "      <td><img src='http://image.tmdb.org/t/p/w185//gOIGAnwL02vzSPhyvALBtDkHsf4.jpg' style='height:100px;'></td>\n",
       "      <td>0.00</td>\n",
       "    </tr>\n",
       "  </tbody>\n",
       "</table>"
      ],
      "text/plain": [
       "<IPython.core.display.HTML object>"
      ]
     },
     "execution_count": 25,
     "metadata": {},
     "output_type": "execute_result"
    }
   ],
   "source": [
    "best_worst(5, by=\"Average Rating\", ascending=True)"
   ]
  },
  {
   "cell_type": "markdown",
   "metadata": {},
   "source": [
    "__Movies Top 5 - Most Popular__"
   ]
  },
  {
   "cell_type": "code",
   "execution_count": 26,
   "metadata": {},
   "outputs": [
    {
     "data": {
      "text/html": [
       "<table border=\"1\" class=\"dataframe\">\n",
       "  <thead>\n",
       "    <tr style=\"text-align: right;\">\n",
       "      <th></th>\n",
       "      <th>Poster</th>\n",
       "      <th>Popularity</th>\n",
       "    </tr>\n",
       "    <tr>\n",
       "      <th>Title</th>\n",
       "      <th></th>\n",
       "      <th></th>\n",
       "    </tr>\n",
       "  </thead>\n",
       "  <tbody>\n",
       "    <tr>\n",
       "      <th>Minions</th>\n",
       "      <td><img src='http://image.tmdb.org/t/p/w185//tMaGZ2HR8HAFwkx4YRib0CDVfNT.jpg' style='height:100px;'></td>\n",
       "      <td>547.49</td>\n",
       "    </tr>\n",
       "    <tr>\n",
       "      <th>Wonder Woman</th>\n",
       "      <td><img src='http://image.tmdb.org/t/p/w185//gfJGlDaHuWimErCr5Ql0I8x9QSy.jpg' style='height:100px;'></td>\n",
       "      <td>294.34</td>\n",
       "    </tr>\n",
       "    <tr>\n",
       "      <th>Beauty and the Beast</th>\n",
       "      <td><img src='http://image.tmdb.org/t/p/w185//tWqifoYuwLETmmasnGHO7xBjEtt.jpg' style='height:100px;'></td>\n",
       "      <td>287.25</td>\n",
       "    </tr>\n",
       "    <tr>\n",
       "      <th>Baby Driver</th>\n",
       "      <td><img src='http://image.tmdb.org/t/p/w185//rmnQ9jKW72bHu8uKlMjPIb2VLMI.jpg' style='height:100px;'></td>\n",
       "      <td>228.03</td>\n",
       "    </tr>\n",
       "    <tr>\n",
       "      <th>Big Hero 6</th>\n",
       "      <td><img src='http://image.tmdb.org/t/p/w185//xozrGME58olN1xBhtxmjpOoY0jH.jpg' style='height:100px;'></td>\n",
       "      <td>213.85</td>\n",
       "    </tr>\n",
       "  </tbody>\n",
       "</table>"
      ],
      "text/plain": [
       "<IPython.core.display.HTML object>"
      ]
     },
     "execution_count": 26,
     "metadata": {},
     "output_type": "execute_result"
    }
   ],
   "source": [
    "best_worst(5, by=\"Popularity\")"
   ]
  },
  {
   "cell_type": "markdown",
   "metadata": {},
   "source": [
    "## Find your next Movie"
   ]
  },
  {
   "cell_type": "markdown",
   "metadata": {},
   "source": [
    "3. __Filter__ the Dataset for movies that meet the following conditions:"
   ]
  },
  {
   "cell_type": "markdown",
   "metadata": {},
   "source": [
    "__Search 1: Science Fiction Action Movie with Bruce Willis (sorted from high to low Rating)__"
   ]
  },
  {
   "cell_type": "markdown",
   "metadata": {},
   "source": [
    "__Search 2: Movies with Uma Thurman and directed by Quentin Tarantino (sorted from short to long runtime)__"
   ]
  },
  {
   "cell_type": "markdown",
   "metadata": {},
   "source": [
    "__Search 3: Most Successful Pixar Studio Movies between 2010 and 2015 (sorted from high to low Revenue)__"
   ]
  },
  {
   "cell_type": "markdown",
   "metadata": {},
   "source": [
    "__Search 4: Action or Thriller Movie with original language English and minimum Rating of 7.5 (most recent movies first)__"
   ]
  },
  {
   "cell_type": "code",
   "execution_count": 48,
   "metadata": {},
   "outputs": [],
   "source": [
    "# create a panda series that contain satisfy condition: genres of Action and Science Fiction\n",
    "marked_genres = df.genres.str.contains(\"Action\") & df.genres.str.contains(\"Science Fiction\")\n",
    "\n",
    "# create a panda series that contain satisfy condition: movie that have Bruce Willis in casts\n",
    "marked_actor = df.cast.str.contains(\"Bruce Willis\")"
   ]
  },
  {
   "cell_type": "code",
   "execution_count": 51,
   "metadata": {},
   "outputs": [
    {
     "data": {
      "text/html": [
       "<table border=\"1\" class=\"dataframe\">\n",
       "  <thead>\n",
       "    <tr style=\"text-align: right;\">\n",
       "      <th></th>\n",
       "      <th>title</th>\n",
       "      <th>vote_average</th>\n",
       "      <th>poster_path</th>\n",
       "    </tr>\n",
       "  </thead>\n",
       "  <tbody>\n",
       "    <tr>\n",
       "      <th>1448</th>\n",
       "      <td>The Fifth Element</td>\n",
       "      <td>7.30</td>\n",
       "      <td><img src='http://image.tmdb.org/t/p/w185//fPtlCO1yQtnoLHOwKtWz7db6RGU.jpg' style='height:100px;'></td>\n",
       "    </tr>\n",
       "    <tr>\n",
       "      <th>19218</th>\n",
       "      <td>Looper</td>\n",
       "      <td>6.60</td>\n",
       "      <td><img src='http://image.tmdb.org/t/p/w185//sNjL6SqErDBE8OUZlrDLkexfsCj.jpg' style='height:100px;'></td>\n",
       "    </tr>\n",
       "    <tr>\n",
       "      <th>1786</th>\n",
       "      <td>Armageddon</td>\n",
       "      <td>6.50</td>\n",
       "      <td><img src='http://image.tmdb.org/t/p/w185//fMtOCd0EAdAzKtGLQiHjSUvbdNc.jpg' style='height:100px;'></td>\n",
       "    </tr>\n",
       "    <tr>\n",
       "      <th>14135</th>\n",
       "      <td>Surrogates</td>\n",
       "      <td>5.90</td>\n",
       "      <td><img src='http://image.tmdb.org/t/p/w185//v3Z0Hbl0oe57njrrIPh0fJPFoo.jpg' style='height:100px;'></td>\n",
       "    </tr>\n",
       "    <tr>\n",
       "      <th>20333</th>\n",
       "      <td>G.I. Joe: Retaliation</td>\n",
       "      <td>5.40</td>\n",
       "      <td><img src='http://image.tmdb.org/t/p/w185//3rWIZMzTKcCtV0eHJ70Z4Ru659f.jpg' style='height:100px;'></td>\n",
       "    </tr>\n",
       "    <tr>\n",
       "      <th>27619</th>\n",
       "      <td>Vice</td>\n",
       "      <td>4.10</td>\n",
       "      <td><img src='http://image.tmdb.org/t/p/w185//nPqNoQ55RIrmmo9mpqg1jE3ENza.jpg' style='height:100px;'></td>\n",
       "    </tr>\n",
       "  </tbody>\n",
       "</table>"
      ],
      "text/plain": [
       "<IPython.core.display.HTML object>"
      ]
     },
     "execution_count": 51,
     "metadata": {},
     "output_type": "execute_result"
    }
   ],
   "source": [
    "bw_movies = df.loc[marked_actor & marked_genres, \n",
    "                   ['title', 'vote_average', 'poster_path']].sort_values(by='vote_average', ascending = False)\n",
    "HTML(bw_movies.to_html(escape=False))\n"
   ]
  },
  {
   "cell_type": "markdown",
   "metadata": {},
   "source": [
    "## Are Franchises more successful?"
   ]
  },
  {
   "cell_type": "markdown",
   "metadata": {},
   "source": [
    "4. __Analyze__ the Dataset and __find out whether Franchises (Movies that belong to a collection) are more successful than stand-alone movies__ in terms of:"
   ]
  },
  {
   "cell_type": "markdown",
   "metadata": {},
   "source": [
    "- mean revenue\n",
    "- median Return on Investment\n",
    "- mean budget raised\n",
    "- mean popularity\n",
    "- mean rating"
   ]
  },
  {
   "cell_type": "markdown",
   "metadata": {},
   "source": [
    "hint: use groupby()"
   ]
  },
  {
   "cell_type": "markdown",
   "metadata": {},
   "source": [
    "__Franchise vs. Stand-alone: Average Revenue__"
   ]
  },
  {
   "cell_type": "code",
   "execution_count": null,
   "metadata": {},
   "outputs": [],
   "source": []
  },
  {
   "cell_type": "markdown",
   "metadata": {},
   "source": [
    "__Franchise vs. Stand-alone: Return on Investment / Profitability (median)__"
   ]
  },
  {
   "cell_type": "code",
   "execution_count": null,
   "metadata": {},
   "outputs": [],
   "source": []
  },
  {
   "cell_type": "markdown",
   "metadata": {},
   "source": [
    "__Franchise vs. Stand-alone: Average Budget__"
   ]
  },
  {
   "cell_type": "code",
   "execution_count": null,
   "metadata": {},
   "outputs": [],
   "source": []
  },
  {
   "cell_type": "markdown",
   "metadata": {},
   "source": [
    "__Franchise vs. Stand-alone: Average Popularity__"
   ]
  },
  {
   "cell_type": "code",
   "execution_count": null,
   "metadata": {},
   "outputs": [],
   "source": []
  },
  {
   "cell_type": "markdown",
   "metadata": {},
   "source": [
    "__Franchise vs. Stand-alone: Average Rating__"
   ]
  },
  {
   "cell_type": "code",
   "execution_count": null,
   "metadata": {},
   "outputs": [],
   "source": []
  },
  {
   "cell_type": "markdown",
   "metadata": {},
   "source": [
    "## Most Successful Franchises"
   ]
  },
  {
   "cell_type": "markdown",
   "metadata": {},
   "source": [
    "5. __Find__ the __most successful Franchises__ in terms of"
   ]
  },
  {
   "cell_type": "markdown",
   "metadata": {},
   "source": [
    "- __total number of movies__\n",
    "- __total & mean budget__\n",
    "- __total & mean revenue__\n",
    "- __mean rating__"
   ]
  },
  {
   "cell_type": "code",
   "execution_count": null,
   "metadata": {},
   "outputs": [],
   "source": []
  },
  {
   "cell_type": "markdown",
   "metadata": {},
   "source": [
    "## Most Successful Directors"
   ]
  },
  {
   "cell_type": "markdown",
   "metadata": {},
   "source": [
    "6. __Find__ the __most successful Directors__ in terms of"
   ]
  },
  {
   "cell_type": "markdown",
   "metadata": {},
   "source": [
    "- __total number of movies__\n",
    "- __total revenue__\n",
    "- __mean rating__"
   ]
  },
  {
   "cell_type": "code",
   "execution_count": null,
   "metadata": {},
   "outputs": [],
   "source": []
  }
 ],
 "metadata": {
  "kernelspec": {
   "display_name": "Python 3 (ipykernel)",
   "language": "python",
   "name": "python3"
  },
  "language_info": {
   "codemirror_mode": {
    "name": "ipython",
    "version": 3
   },
   "file_extension": ".py",
   "mimetype": "text/x-python",
   "name": "python",
   "nbconvert_exporter": "python",
   "pygments_lexer": "ipython3",
   "version": "3.9.7"
  }
 },
 "nbformat": 4,
 "nbformat_minor": 2
}
